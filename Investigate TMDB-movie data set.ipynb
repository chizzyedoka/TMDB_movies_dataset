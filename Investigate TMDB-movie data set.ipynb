{
 "cells": [
  {
   "cell_type": "markdown",
   "id": "a2434cdc",
   "metadata": {},
   "source": [
    "<h1><center>PROJECT: Investigate TMDB Movie Dataset</center></h1>"
   ]
  },
  {
   "cell_type": "markdown",
   "id": "0ad03d3e",
   "metadata": {},
   "source": [
    "![](cover_page.jpg)"
   ]
  },
  {
   "cell_type": "markdown",
   "id": "4d0256df",
   "metadata": {},
   "source": [
    "## Table of Contents\n",
    "\n",
    " -  Introduction\n",
    " -  Data Wrangling\n",
    " -  Exploratory Data Analysis\n",
    " -  Conclusions"
   ]
  },
  {
   "cell_type": "markdown",
   "id": "4f62a323",
   "metadata": {},
   "source": [
    "## INTRODUCTION\n"
   ]
  },
  {
   "cell_type": "markdown",
   "id": "663f13f1",
   "metadata": {},
   "source": [
    "## Dataset Description"
   ]
  },
  {
   "cell_type": "markdown",
   "id": "389aa990",
   "metadata": {},
   "source": [
    "This data set contains information about 10,000 movies collected from The Movie Database (TMDb) from 1966 to 2015, including user ratings and revenue. The data is available at <a href=\"https://d17h27t6h515a5.cloudfront.net/topher/2017/October/59dd1c4c_tmdb-movies/tmdb-movies.csv\"> TMDB movie data </a>\n",
    "\n",
    "\n",
    "● The final two columns ending with “_adj” show the budget and revenue of the associated movie in terms of 2010 dollars,\n",
    "accounting for inflation over time.\n",
    "\n"
   ]
  },
  {
   "cell_type": "markdown",
   "id": "37951d04",
   "metadata": {},
   "source": [
    "### Questions\n",
    "1. What is the trend of movie production over the years?\n",
    "2. Which genres make more revenue?\n",
    "3. What kind of properties are associated with movies with high revenues?\n",
    "4. Does revenue depend on the movie release month\n",
    "5. What are the movies that made a loss and why?\n",
    "6. What are the reasons for popularity of a movie?"
   ]
  },
  {
   "cell_type": "markdown",
   "id": "74b95963",
   "metadata": {},
   "source": [
    "## Data Wrangling"
   ]
  },
  {
   "cell_type": "code",
   "execution_count": 1,
   "id": "7916adb5",
   "metadata": {},
   "outputs": [],
   "source": [
    "# import all the required libaries\n",
    "import numpy as np \n",
    "import pandas as pd\n",
    "import matplotlib.pyplot as plt \n",
    "import seaborn as sns\n",
    "%matplotlib inline"
   ]
  },
  {
   "cell_type": "code",
   "execution_count": 2,
   "id": "de45d067",
   "metadata": {},
   "outputs": [
    {
     "data": {
      "text/html": [
       "<div>\n",
       "<style scoped>\n",
       "    .dataframe tbody tr th:only-of-type {\n",
       "        vertical-align: middle;\n",
       "    }\n",
       "\n",
       "    .dataframe tbody tr th {\n",
       "        vertical-align: top;\n",
       "    }\n",
       "\n",
       "    .dataframe thead th {\n",
       "        text-align: right;\n",
       "    }\n",
       "</style>\n",
       "<table border=\"1\" class=\"dataframe\">\n",
       "  <thead>\n",
       "    <tr style=\"text-align: right;\">\n",
       "      <th></th>\n",
       "      <th>id</th>\n",
       "      <th>imdb_id</th>\n",
       "      <th>popularity</th>\n",
       "      <th>budget</th>\n",
       "      <th>revenue</th>\n",
       "      <th>original_title</th>\n",
       "      <th>cast</th>\n",
       "      <th>homepage</th>\n",
       "      <th>director</th>\n",
       "      <th>tagline</th>\n",
       "      <th>...</th>\n",
       "      <th>overview</th>\n",
       "      <th>runtime</th>\n",
       "      <th>genres</th>\n",
       "      <th>production_companies</th>\n",
       "      <th>release_date</th>\n",
       "      <th>vote_count</th>\n",
       "      <th>vote_average</th>\n",
       "      <th>release_year</th>\n",
       "      <th>budget_adj</th>\n",
       "      <th>revenue_adj</th>\n",
       "    </tr>\n",
       "  </thead>\n",
       "  <tbody>\n",
       "    <tr>\n",
       "      <th>0</th>\n",
       "      <td>135397</td>\n",
       "      <td>tt0369610</td>\n",
       "      <td>32.985763</td>\n",
       "      <td>150000000</td>\n",
       "      <td>1513528810</td>\n",
       "      <td>Jurassic World</td>\n",
       "      <td>Chris Pratt|Bryce Dallas Howard|Irrfan Khan|Vi...</td>\n",
       "      <td>http://www.jurassicworld.com/</td>\n",
       "      <td>Colin Trevorrow</td>\n",
       "      <td>The park is open.</td>\n",
       "      <td>...</td>\n",
       "      <td>Twenty-two years after the events of Jurassic ...</td>\n",
       "      <td>124</td>\n",
       "      <td>Action|Adventure|Science Fiction|Thriller</td>\n",
       "      <td>Universal Studios|Amblin Entertainment|Legenda...</td>\n",
       "      <td>6/9/15</td>\n",
       "      <td>5562</td>\n",
       "      <td>6.5</td>\n",
       "      <td>2015</td>\n",
       "      <td>1.379999e+08</td>\n",
       "      <td>1.392446e+09</td>\n",
       "    </tr>\n",
       "    <tr>\n",
       "      <th>1</th>\n",
       "      <td>76341</td>\n",
       "      <td>tt1392190</td>\n",
       "      <td>28.419936</td>\n",
       "      <td>150000000</td>\n",
       "      <td>378436354</td>\n",
       "      <td>Mad Max: Fury Road</td>\n",
       "      <td>Tom Hardy|Charlize Theron|Hugh Keays-Byrne|Nic...</td>\n",
       "      <td>http://www.madmaxmovie.com/</td>\n",
       "      <td>George Miller</td>\n",
       "      <td>What a Lovely Day.</td>\n",
       "      <td>...</td>\n",
       "      <td>An apocalyptic story set in the furthest reach...</td>\n",
       "      <td>120</td>\n",
       "      <td>Action|Adventure|Science Fiction|Thriller</td>\n",
       "      <td>Village Roadshow Pictures|Kennedy Miller Produ...</td>\n",
       "      <td>5/13/15</td>\n",
       "      <td>6185</td>\n",
       "      <td>7.1</td>\n",
       "      <td>2015</td>\n",
       "      <td>1.379999e+08</td>\n",
       "      <td>3.481613e+08</td>\n",
       "    </tr>\n",
       "  </tbody>\n",
       "</table>\n",
       "<p>2 rows × 21 columns</p>\n",
       "</div>"
      ],
      "text/plain": [
       "       id    imdb_id  popularity     budget     revenue      original_title  \\\n",
       "0  135397  tt0369610   32.985763  150000000  1513528810      Jurassic World   \n",
       "1   76341  tt1392190   28.419936  150000000   378436354  Mad Max: Fury Road   \n",
       "\n",
       "                                                cast  \\\n",
       "0  Chris Pratt|Bryce Dallas Howard|Irrfan Khan|Vi...   \n",
       "1  Tom Hardy|Charlize Theron|Hugh Keays-Byrne|Nic...   \n",
       "\n",
       "                        homepage         director             tagline  ...  \\\n",
       "0  http://www.jurassicworld.com/  Colin Trevorrow   The park is open.  ...   \n",
       "1    http://www.madmaxmovie.com/    George Miller  What a Lovely Day.  ...   \n",
       "\n",
       "                                            overview runtime  \\\n",
       "0  Twenty-two years after the events of Jurassic ...     124   \n",
       "1  An apocalyptic story set in the furthest reach...     120   \n",
       "\n",
       "                                      genres  \\\n",
       "0  Action|Adventure|Science Fiction|Thriller   \n",
       "1  Action|Adventure|Science Fiction|Thriller   \n",
       "\n",
       "                                production_companies release_date vote_count  \\\n",
       "0  Universal Studios|Amblin Entertainment|Legenda...       6/9/15       5562   \n",
       "1  Village Roadshow Pictures|Kennedy Miller Produ...      5/13/15       6185   \n",
       "\n",
       "   vote_average  release_year    budget_adj   revenue_adj  \n",
       "0           6.5          2015  1.379999e+08  1.392446e+09  \n",
       "1           7.1          2015  1.379999e+08  3.481613e+08  \n",
       "\n",
       "[2 rows x 21 columns]"
      ]
     },
     "execution_count": 2,
     "metadata": {},
     "output_type": "execute_result"
    }
   ],
   "source": [
    "# read the data\n",
    "df = pd.read_csv(\"tmdb-movies.csv\")\n",
    "df.head(2)"
   ]
  },
  {
   "cell_type": "code",
   "execution_count": 3,
   "id": "1e188ff8",
   "metadata": {},
   "outputs": [
    {
     "data": {
      "text/plain": [
       "(10866, 21)"
      ]
     },
     "execution_count": 3,
     "metadata": {},
     "output_type": "execute_result"
    }
   ],
   "source": [
    "df.shape"
   ]
  },
  {
   "cell_type": "code",
   "execution_count": 4,
   "id": "86b0923d",
   "metadata": {},
   "outputs": [
    {
     "data": {
      "text/plain": [
       "Index(['id', 'imdb_id', 'popularity', 'budget', 'revenue', 'original_title',\n",
       "       'cast', 'homepage', 'director', 'tagline', 'keywords', 'overview',\n",
       "       'runtime', 'genres', 'production_companies', 'release_date',\n",
       "       'vote_count', 'vote_average', 'release_year', 'budget_adj',\n",
       "       'revenue_adj'],\n",
       "      dtype='object')"
      ]
     },
     "execution_count": 4,
     "metadata": {},
     "output_type": "execute_result"
    }
   ],
   "source": [
    "df.columns"
   ]
  },
  {
   "cell_type": "code",
   "execution_count": 5,
   "id": "94c25b84",
   "metadata": {},
   "outputs": [
    {
     "name": "stdout",
     "output_type": "stream",
     "text": [
      "<class 'pandas.core.frame.DataFrame'>\n",
      "RangeIndex: 10866 entries, 0 to 10865\n",
      "Data columns (total 21 columns):\n",
      " #   Column                Non-Null Count  Dtype  \n",
      "---  ------                --------------  -----  \n",
      " 0   id                    10866 non-null  int64  \n",
      " 1   imdb_id               10856 non-null  object \n",
      " 2   popularity            10866 non-null  float64\n",
      " 3   budget                10866 non-null  int64  \n",
      " 4   revenue               10866 non-null  int64  \n",
      " 5   original_title        10866 non-null  object \n",
      " 6   cast                  10790 non-null  object \n",
      " 7   homepage              2936 non-null   object \n",
      " 8   director              10822 non-null  object \n",
      " 9   tagline               8042 non-null   object \n",
      " 10  keywords              9373 non-null   object \n",
      " 11  overview              10862 non-null  object \n",
      " 12  runtime               10866 non-null  int64  \n",
      " 13  genres                10843 non-null  object \n",
      " 14  production_companies  9836 non-null   object \n",
      " 15  release_date          10866 non-null  object \n",
      " 16  vote_count            10866 non-null  int64  \n",
      " 17  vote_average          10866 non-null  float64\n",
      " 18  release_year          10866 non-null  int64  \n",
      " 19  budget_adj            10866 non-null  float64\n",
      " 20  revenue_adj           10866 non-null  float64\n",
      "dtypes: float64(4), int64(6), object(11)\n",
      "memory usage: 1.7+ MB\n"
     ]
    }
   ],
   "source": [
    "df.info() \n",
    "#To have an idea of whether we have null values and where we have them"
   ]
  },
  {
   "cell_type": "code",
   "execution_count": 6,
   "id": "968ea4b3",
   "metadata": {},
   "outputs": [
    {
     "data": {
      "text/html": [
       "<div>\n",
       "<style scoped>\n",
       "    .dataframe tbody tr th:only-of-type {\n",
       "        vertical-align: middle;\n",
       "    }\n",
       "\n",
       "    .dataframe tbody tr th {\n",
       "        vertical-align: top;\n",
       "    }\n",
       "\n",
       "    .dataframe thead th {\n",
       "        text-align: right;\n",
       "    }\n",
       "</style>\n",
       "<table border=\"1\" class=\"dataframe\">\n",
       "  <thead>\n",
       "    <tr style=\"text-align: right;\">\n",
       "      <th></th>\n",
       "      <th>id</th>\n",
       "      <th>popularity</th>\n",
       "      <th>budget</th>\n",
       "      <th>revenue</th>\n",
       "      <th>runtime</th>\n",
       "      <th>vote_count</th>\n",
       "      <th>vote_average</th>\n",
       "      <th>release_year</th>\n",
       "      <th>budget_adj</th>\n",
       "      <th>revenue_adj</th>\n",
       "    </tr>\n",
       "  </thead>\n",
       "  <tbody>\n",
       "    <tr>\n",
       "      <th>count</th>\n",
       "      <td>10866.000000</td>\n",
       "      <td>10866.000000</td>\n",
       "      <td>1.086600e+04</td>\n",
       "      <td>1.086600e+04</td>\n",
       "      <td>10866.000000</td>\n",
       "      <td>10866.000000</td>\n",
       "      <td>10866.000000</td>\n",
       "      <td>10866.000000</td>\n",
       "      <td>1.086600e+04</td>\n",
       "      <td>1.086600e+04</td>\n",
       "    </tr>\n",
       "    <tr>\n",
       "      <th>mean</th>\n",
       "      <td>66064.177434</td>\n",
       "      <td>0.646441</td>\n",
       "      <td>1.462570e+07</td>\n",
       "      <td>3.982332e+07</td>\n",
       "      <td>102.070863</td>\n",
       "      <td>217.389748</td>\n",
       "      <td>5.974922</td>\n",
       "      <td>2001.322658</td>\n",
       "      <td>1.755104e+07</td>\n",
       "      <td>5.136436e+07</td>\n",
       "    </tr>\n",
       "    <tr>\n",
       "      <th>std</th>\n",
       "      <td>92130.136561</td>\n",
       "      <td>1.000185</td>\n",
       "      <td>3.091321e+07</td>\n",
       "      <td>1.170035e+08</td>\n",
       "      <td>31.381405</td>\n",
       "      <td>575.619058</td>\n",
       "      <td>0.935142</td>\n",
       "      <td>12.812941</td>\n",
       "      <td>3.430616e+07</td>\n",
       "      <td>1.446325e+08</td>\n",
       "    </tr>\n",
       "    <tr>\n",
       "      <th>min</th>\n",
       "      <td>5.000000</td>\n",
       "      <td>0.000065</td>\n",
       "      <td>0.000000e+00</td>\n",
       "      <td>0.000000e+00</td>\n",
       "      <td>0.000000</td>\n",
       "      <td>10.000000</td>\n",
       "      <td>1.500000</td>\n",
       "      <td>1960.000000</td>\n",
       "      <td>0.000000e+00</td>\n",
       "      <td>0.000000e+00</td>\n",
       "    </tr>\n",
       "    <tr>\n",
       "      <th>25%</th>\n",
       "      <td>10596.250000</td>\n",
       "      <td>0.207583</td>\n",
       "      <td>0.000000e+00</td>\n",
       "      <td>0.000000e+00</td>\n",
       "      <td>90.000000</td>\n",
       "      <td>17.000000</td>\n",
       "      <td>5.400000</td>\n",
       "      <td>1995.000000</td>\n",
       "      <td>0.000000e+00</td>\n",
       "      <td>0.000000e+00</td>\n",
       "    </tr>\n",
       "    <tr>\n",
       "      <th>50%</th>\n",
       "      <td>20669.000000</td>\n",
       "      <td>0.383856</td>\n",
       "      <td>0.000000e+00</td>\n",
       "      <td>0.000000e+00</td>\n",
       "      <td>99.000000</td>\n",
       "      <td>38.000000</td>\n",
       "      <td>6.000000</td>\n",
       "      <td>2006.000000</td>\n",
       "      <td>0.000000e+00</td>\n",
       "      <td>0.000000e+00</td>\n",
       "    </tr>\n",
       "    <tr>\n",
       "      <th>75%</th>\n",
       "      <td>75610.000000</td>\n",
       "      <td>0.713817</td>\n",
       "      <td>1.500000e+07</td>\n",
       "      <td>2.400000e+07</td>\n",
       "      <td>111.000000</td>\n",
       "      <td>145.750000</td>\n",
       "      <td>6.600000</td>\n",
       "      <td>2011.000000</td>\n",
       "      <td>2.085325e+07</td>\n",
       "      <td>3.369710e+07</td>\n",
       "    </tr>\n",
       "    <tr>\n",
       "      <th>max</th>\n",
       "      <td>417859.000000</td>\n",
       "      <td>32.985763</td>\n",
       "      <td>4.250000e+08</td>\n",
       "      <td>2.781506e+09</td>\n",
       "      <td>900.000000</td>\n",
       "      <td>9767.000000</td>\n",
       "      <td>9.200000</td>\n",
       "      <td>2015.000000</td>\n",
       "      <td>4.250000e+08</td>\n",
       "      <td>2.827124e+09</td>\n",
       "    </tr>\n",
       "  </tbody>\n",
       "</table>\n",
       "</div>"
      ],
      "text/plain": [
       "                  id    popularity        budget       revenue       runtime  \\\n",
       "count   10866.000000  10866.000000  1.086600e+04  1.086600e+04  10866.000000   \n",
       "mean    66064.177434      0.646441  1.462570e+07  3.982332e+07    102.070863   \n",
       "std     92130.136561      1.000185  3.091321e+07  1.170035e+08     31.381405   \n",
       "min         5.000000      0.000065  0.000000e+00  0.000000e+00      0.000000   \n",
       "25%     10596.250000      0.207583  0.000000e+00  0.000000e+00     90.000000   \n",
       "50%     20669.000000      0.383856  0.000000e+00  0.000000e+00     99.000000   \n",
       "75%     75610.000000      0.713817  1.500000e+07  2.400000e+07    111.000000   \n",
       "max    417859.000000     32.985763  4.250000e+08  2.781506e+09    900.000000   \n",
       "\n",
       "         vote_count  vote_average  release_year    budget_adj   revenue_adj  \n",
       "count  10866.000000  10866.000000  10866.000000  1.086600e+04  1.086600e+04  \n",
       "mean     217.389748      5.974922   2001.322658  1.755104e+07  5.136436e+07  \n",
       "std      575.619058      0.935142     12.812941  3.430616e+07  1.446325e+08  \n",
       "min       10.000000      1.500000   1960.000000  0.000000e+00  0.000000e+00  \n",
       "25%       17.000000      5.400000   1995.000000  0.000000e+00  0.000000e+00  \n",
       "50%       38.000000      6.000000   2006.000000  0.000000e+00  0.000000e+00  \n",
       "75%      145.750000      6.600000   2011.000000  2.085325e+07  3.369710e+07  \n",
       "max     9767.000000      9.200000   2015.000000  4.250000e+08  2.827124e+09  "
      ]
     },
     "execution_count": 6,
     "metadata": {},
     "output_type": "execute_result"
    }
   ],
   "source": [
    "df.describe()"
   ]
  },
  {
   "cell_type": "markdown",
   "id": "7c6485ac",
   "metadata": {},
   "source": [
    "### DROP REDUNDANT COLUMNS"
   ]
  },
  {
   "cell_type": "markdown",
   "id": "e3b111d1",
   "metadata": {},
   "source": [
    "We have 2 budget columns and 2 revenue columns. We will be needing just one; the budget_adj and revenue_adj\n",
    " since they both give us the inflation rate equivalent in 2010."
   ]
  },
  {
   "cell_type": "code",
   "execution_count": 7,
   "id": "82839d67",
   "metadata": {},
   "outputs": [],
   "source": [
    "df.drop(columns=['budget','revenue','imdb_id','vote_count'],inplace=True)"
   ]
  },
  {
   "cell_type": "code",
   "execution_count": 8,
   "id": "0ef7de3b",
   "metadata": {},
   "outputs": [
    {
     "data": {
      "image/png": "[encoded data removed]",
      "text/plain": [
       "<Figure size 1080x720 with 9 Axes>"
      ]
     },
     "metadata": {
      "needs_background": "light"
     },
     "output_type": "display_data"
    }
   ],
   "source": [
    "df.hist(figsize=(15,10));"
   ]
  },
  {
   "cell_type": "markdown",
   "id": "8cf4ff10",
   "metadata": {},
   "source": [
    "### INSIGHT\n",
    "From my describe cell and histogram cell, I can see that some columns are highly skewed for example the 'popularity' column\n",
    "is skewed to the right with some extreme values(outliers). The same goes for the 'budget_adj', 'revenue_adj', 'vote_count',\n",
    "and 'runtime' columns. Also The budget and revenue columns has $0 as its median which is not feasible. We will reduce these skewness and clean the revenue and budget columns by using a user defined function."
   ]
  },
  {
   "cell_type": "code",
   "execution_count": 9,
   "id": "caa22060",
   "metadata": {},
   "outputs": [],
   "source": [
    "def reduce_skewness(df):\n",
    "    \n",
    "    # remove extreme values in the popularity column\n",
    "    lowp,highp = df['popularity'].quantile([0,0.9])\n",
    "    \n",
    "    # create a popularity mask\n",
    "    df_pop_mask = df['popularity'].between(lowp,highp)\n",
    "    \n",
    "    # remove extreme values from the runtime column\n",
    "    low_runtime,high_runtime = df['runtime'].quantile([0,0.98])\n",
    "    \n",
    "    # create a runtime mask\n",
    "    df_runtime_mask = df['runtime'].between(low_runtime,high_runtime)\n",
    "    \n",
    "    # replace movies with $0 as budget to the average budget values\n",
    "    df['budget_adj'] = df['budget_adj'].replace(to_replace = 0,value = df['budget_adj'].mean())\n",
    "    \n",
    "     # replace movies with $0 as budget to the average budget values\n",
    "    df['revenue_adj'] = df['revenue_adj'].replace(to_replace = 0,value = df['revenue_adj'].mean())\n",
    "    \n",
    "    # create a budget mask\n",
    "    low_budg,high_budg = df['budget_adj'].quantile([0.008,0.9])\n",
    "    df_budg_mask = df['budget_adj'].between(low_budg,high_budg)\n",
    "    \n",
    "    # create a revenue mask\n",
    "    low_rev,high_rev = df['revenue_adj'].quantile([0.008,0.9])\n",
    "    df_rev_mask = df['revenue_adj'].between(low_rev,high_rev)\n",
    "    \n",
    "    df_clean = df[df_pop_mask & df_runtime_mask & df_budg_mask & df_rev_mask]\n",
    "    \n",
    "    \n",
    "    return df_clean\n",
    "    "
   ]
  },
  {
   "cell_type": "code",
   "execution_count": 10,
   "id": "aea8bc46",
   "metadata": {},
   "outputs": [],
   "source": [
    "df_clean = reduce_skewness(df)"
   ]
  },
  {
   "cell_type": "code",
   "execution_count": 11,
   "id": "485f62c7",
   "metadata": {},
   "outputs": [
    {
     "data": {
      "image/png": "[encoded data removed]",
      "text/plain": [
       "<Figure size 1080x720 with 9 Axes>"
      ]
     },
     "metadata": {
      "needs_background": "light"
     },
     "output_type": "display_data"
    }
   ],
   "source": [
    "df_clean.hist(figsize=(15,10));"
   ]
  },
  {
   "cell_type": "code",
   "execution_count": 12,
   "id": "5ca8bb49",
   "metadata": {},
   "outputs": [
    {
     "data": {
      "text/plain": [
       "id              1.660994\n",
       "popularity      1.126737\n",
       "runtime        -1.422999\n",
       "vote_average   -0.441185\n",
       "release_year   -1.201905\n",
       "budget_adj      1.387444\n",
       "revenue_adj     0.242361\n",
       "dtype: float64"
      ]
     },
     "execution_count": 12,
     "metadata": {},
     "output_type": "execute_result"
    }
   ],
   "source": [
    "df_clean.skew()"
   ]
  },
  {
   "cell_type": "code",
   "execution_count": 13,
   "id": "438132d7",
   "metadata": {},
   "outputs": [
    {
     "data": {
      "text/plain": [
       "id                        int64\n",
       "popularity              float64\n",
       "original_title           object\n",
       "cast                     object\n",
       "homepage                 object\n",
       "director                 object\n",
       "tagline                  object\n",
       "keywords                 object\n",
       "overview                 object\n",
       "runtime                   int64\n",
       "genres                   object\n",
       "production_companies     object\n",
       "release_date             object\n",
       "vote_average            float64\n",
       "release_year              int64\n",
       "budget_adj              float64\n",
       "revenue_adj             float64\n",
       "dtype: object"
      ]
     },
     "execution_count": 13,
     "metadata": {},
     "output_type": "execute_result"
    }
   ],
   "source": [
    "df_clean.dtypes"
   ]
  },
  {
   "cell_type": "code",
   "execution_count": 14,
   "id": "9ea9f480",
   "metadata": {},
   "outputs": [
    {
     "name": "stdout",
     "output_type": "stream",
     "text": [
      "<class 'pandas.core.frame.DataFrame'>\n",
      "Int64Index: 8636 entries, 121 to 10865\n",
      "Data columns (total 17 columns):\n",
      " #   Column                Non-Null Count  Dtype  \n",
      "---  ------                --------------  -----  \n",
      " 0   id                    8636 non-null   int64  \n",
      " 1   popularity            8636 non-null   float64\n",
      " 2   original_title        8636 non-null   object \n",
      " 3   cast                  8564 non-null   object \n",
      " 4   homepage              2049 non-null   object \n",
      " 5   director              8594 non-null   object \n",
      " 6   tagline               5999 non-null   object \n",
      " 7   keywords              7237 non-null   object \n",
      " 8   overview              8632 non-null   object \n",
      " 9   runtime               8636 non-null   int64  \n",
      " 10  genres                8615 non-null   object \n",
      " 11  production_companies  7671 non-null   object \n",
      " 12  release_date          8636 non-null   object \n",
      " 13  vote_average          8636 non-null   float64\n",
      " 14  release_year          8636 non-null   int64  \n",
      " 15  budget_adj            8636 non-null   float64\n",
      " 16  revenue_adj           8636 non-null   float64\n",
      "dtypes: float64(4), int64(3), object(10)\n",
      "memory usage: 1.2+ MB\n"
     ]
    }
   ],
   "source": [
    "df_clean.info()"
   ]
  },
  {
   "cell_type": "markdown",
   "id": "f2bfd9c9",
   "metadata": {},
   "source": [
    "## What is the trend of movie production over the years?"
   ]
  },
  {
   "cell_type": "markdown",
   "id": "d22e5d0e",
   "metadata": {},
   "source": [
    " - Here we can explore questions like are more movies being produced over the years\n",
    " - Are movies getting shorter or longer\n",
    " - Relationship between budget, revenue and profit over the years"
   ]
  },
  {
   "cell_type": "code",
   "execution_count": 15,
   "id": "ab09696f",
   "metadata": {},
   "outputs": [],
   "source": [
    "df = df_clean.copy(deep=True) # for easy typing"
   ]
  },
  {
   "cell_type": "code",
   "execution_count": 16,
   "id": "294b15be",
   "metadata": {},
   "outputs": [],
   "source": [
    " # create profit column\n",
    "df['profit'] = df['revenue_adj'] - df['budget_adj']"
   ]
  },
  {
   "cell_type": "code",
   "execution_count": 17,
   "id": "eb4d9d4c",
   "metadata": {},
   "outputs": [
    {
     "data": {
      "text/html": [
       "<div>\n",
       "<style scoped>\n",
       "    .dataframe tbody tr th:only-of-type {\n",
       "        vertical-align: middle;\n",
       "    }\n",
       "\n",
       "    .dataframe tbody tr th {\n",
       "        vertical-align: top;\n",
       "    }\n",
       "\n",
       "    .dataframe thead th {\n",
       "        text-align: right;\n",
       "    }\n",
       "</style>\n",
       "<table border=\"1\" class=\"dataframe\">\n",
       "  <thead>\n",
       "    <tr style=\"text-align: right;\">\n",
       "      <th></th>\n",
       "      <th>id</th>\n",
       "      <th>popularity</th>\n",
       "      <th>original_title</th>\n",
       "      <th>cast</th>\n",
       "      <th>homepage</th>\n",
       "      <th>director</th>\n",
       "      <th>tagline</th>\n",
       "      <th>keywords</th>\n",
       "      <th>overview</th>\n",
       "      <th>runtime</th>\n",
       "      <th>genres</th>\n",
       "      <th>production_companies</th>\n",
       "      <th>release_date</th>\n",
       "      <th>vote_average</th>\n",
       "      <th>release_year</th>\n",
       "      <th>budget_adj</th>\n",
       "      <th>revenue_adj</th>\n",
       "      <th>profit</th>\n",
       "    </tr>\n",
       "  </thead>\n",
       "  <tbody>\n",
       "    <tr>\n",
       "      <th>121</th>\n",
       "      <td>201085</td>\n",
       "      <td>1.345982</td>\n",
       "      <td>Crimson Peak</td>\n",
       "      <td>Mia Wasikowska|Jessica Chastain|Tom Hiddleston...</td>\n",
       "      <td>http://www.crimsonpeakmovie.com/</td>\n",
       "      <td>Guillermo del Toro</td>\n",
       "      <td>Beware.</td>\n",
       "      <td>haunted house|mining|murder|spitting blood|gothic</td>\n",
       "      <td>In the aftermath of a family tragedy, an aspir...</td>\n",
       "      <td>119</td>\n",
       "      <td>Mystery|Thriller|Fantasy|Horror|Drama</td>\n",
       "      <td>Legendary Pictures</td>\n",
       "      <td>10/13/15</td>\n",
       "      <td>6.4</td>\n",
       "      <td>2015</td>\n",
       "      <td>5.059998e+07</td>\n",
       "      <td>6.870541e+07</td>\n",
       "      <td>1.810543e+07</td>\n",
       "    </tr>\n",
       "    <tr>\n",
       "      <th>122</th>\n",
       "      <td>277355</td>\n",
       "      <td>1.342839</td>\n",
       "      <td>Everly</td>\n",
       "      <td>Salma Hayek|Hiroyuki Watanabe|Jennifer Blanc|T...</td>\n",
       "      <td>NaN</td>\n",
       "      <td>Joe Lynch</td>\n",
       "      <td>Enter if you dare.</td>\n",
       "      <td>assassin|mob boss</td>\n",
       "      <td>After she betrays a powerful mob boss, a woman...</td>\n",
       "      <td>90</td>\n",
       "      <td>Thriller|Action</td>\n",
       "      <td>Crime Scene Pictures|Radius-TWC|Anonymous Cont...</td>\n",
       "      <td>1/23/15</td>\n",
       "      <td>5.1</td>\n",
       "      <td>2015</td>\n",
       "      <td>1.755104e+07</td>\n",
       "      <td>5.136436e+07</td>\n",
       "      <td>3.381332e+07</td>\n",
       "    </tr>\n",
       "  </tbody>\n",
       "</table>\n",
       "</div>"
      ],
      "text/plain": [
       "         id  popularity original_title  \\\n",
       "121  201085    1.345982   Crimson Peak   \n",
       "122  277355    1.342839         Everly   \n",
       "\n",
       "                                                  cast  \\\n",
       "121  Mia Wasikowska|Jessica Chastain|Tom Hiddleston...   \n",
       "122  Salma Hayek|Hiroyuki Watanabe|Jennifer Blanc|T...   \n",
       "\n",
       "                             homepage            director             tagline  \\\n",
       "121  http://www.crimsonpeakmovie.com/  Guillermo del Toro             Beware.   \n",
       "122                               NaN           Joe Lynch  Enter if you dare.   \n",
       "\n",
       "                                              keywords  \\\n",
       "121  haunted house|mining|murder|spitting blood|gothic   \n",
       "122                                  assassin|mob boss   \n",
       "\n",
       "                                              overview  runtime  \\\n",
       "121  In the aftermath of a family tragedy, an aspir...      119   \n",
       "122  After she betrays a powerful mob boss, a woman...       90   \n",
       "\n",
       "                                    genres  \\\n",
       "121  Mystery|Thriller|Fantasy|Horror|Drama   \n",
       "122                        Thriller|Action   \n",
       "\n",
       "                                  production_companies release_date  \\\n",
       "121                                 Legendary Pictures     10/13/15   \n",
       "122  Crime Scene Pictures|Radius-TWC|Anonymous Cont...      1/23/15   \n",
       "\n",
       "     vote_average  release_year    budget_adj   revenue_adj        profit  \n",
       "121           6.4          2015  5.059998e+07  6.870541e+07  1.810543e+07  \n",
       "122           5.1          2015  1.755104e+07  5.136436e+07  3.381332e+07  "
      ]
     },
     "execution_count": 17,
     "metadata": {},
     "output_type": "execute_result"
    }
   ],
   "source": [
    "df.head(2)"
   ]
  },
  {
   "cell_type": "markdown",
   "id": "a3d49053",
   "metadata": {},
   "source": [
    "### Are more movies being produced over the years?"
   ]
  },
  {
   "cell_type": "code",
   "execution_count": 18,
   "id": "0ee48835",
   "metadata": {},
   "outputs": [
    {
     "data": {
      "image/png": "[encoded data removed]",
      "text/plain": [
       "<Figure size 432x288 with 1 Axes>"
      ]
     },
     "metadata": {
      "needs_background": "light"
     },
     "output_type": "display_data"
    }
   ],
   "source": [
    "plt.plot(df.groupby('release_year')['id'].count())\n",
    "plt.xlabel('Year')\n",
    "plt.ylabel('Number of Movies')\n",
    "plt.title('Movies produced over time');"
   ]
  },
  {
   "cell_type": "markdown",
   "id": "56aa9c9c",
   "metadata": {},
   "source": [
    "We can clearly see that the number of movies being produced has gradually being increasing yearly with a massive increas in the 2000's"
   ]
  },
  {
   "cell_type": "markdown",
   "id": "56c2341a",
   "metadata": {},
   "source": [
    "### Are movies getting shorter or longer?"
   ]
  },
  {
   "cell_type": "code",
   "execution_count": 19,
   "id": "16e6f295",
   "metadata": {},
   "outputs": [
    {
     "data": {
      "image/png": "[encoded data removed]",
      "text/plain": [
       "<Figure size 432x288 with 1 Axes>"
      ]
     },
     "metadata": {
      "needs_background": "light"
     },
     "output_type": "display_data"
    }
   ],
   "source": [
    "plt.scatter(df['release_year'],df['runtime'])\n",
    "plt.xlabel('Year')\n",
    "plt.ylabel('duration[mins]');"
   ]
  },
  {
   "cell_type": "markdown",
   "id": "c09eb1dd",
   "metadata": {},
   "source": [
    "### Relationship between budget, revenue and profit over the years"
   ]
  },
  {
   "cell_type": "code",
   "execution_count": 20,
   "id": "7a7cf86c",
   "metadata": {},
   "outputs": [
    {
     "data": {
      "image/png": "[encoded data removed]",
      "text/plain": [
       "<Figure size 432x288 with 1 Axes>"
      ]
     },
     "metadata": {
      "needs_background": "light"
     },
     "output_type": "display_data"
    }
   ],
   "source": [
    "new_df = df.groupby('release_year')[['revenue_adj','budget_adj','profit']].mean()\n",
    "new_df2 = new_df.reset_index()\n",
    "plt.plot(new_df2['release_year'],new_df2['revenue_adj'],c='g',label='Revenue')\n",
    "plt.plot(new_df2['release_year'],new_df2['budget_adj'],c='k',label='Budget')\n",
    "plt.plot(new_df2['release_year'],new_df2['profit'],c='y',label='Profit')\n",
    "plt.legend()\n",
    "plt.xlabel('Year')\n",
    "plt.ylabel('Value in $')\n",
    "plt.title('Budget, Revenue and Profit over the years');"
   ]
  },
  {
   "cell_type": "markdown",
   "id": "49b16925",
   "metadata": {},
   "source": [
    "From this plot, we see that from 1980 to 2000 there was a steady increase in the budget but revenue and profit decreased."
   ]
  },
  {
   "cell_type": "markdown",
   "id": "56ba2182",
   "metadata": {},
   "source": [
    "### 2. Which genres make more revenue?"
   ]
  },
  {
   "cell_type": "markdown",
   "id": "2e275336",
   "metadata": {},
   "source": [
    "From this scatter plot we can't see any clear trend with an increase in the runtime of movies over the years.\n",
    "But from the year 2000 upwards we can see shorter movies being produced. What are these shorter movies?"
   ]
  },
  {
   "cell_type": "code",
   "execution_count": 21,
   "id": "2fc83a1b",
   "metadata": {},
   "outputs": [
    {
     "data": {
      "text/plain": [
       "121    Mystery|Thriller|Fantasy|Horror|Drama\n",
       "122                          Thriller|Action\n",
       "123                       Comedy|Drama|Music\n",
       "124                          Horror|Thriller\n",
       "125                 Romance|Thriller|Western\n",
       "Name: genres, dtype: object"
      ]
     },
     "execution_count": 21,
     "metadata": {},
     "output_type": "execute_result"
    }
   ],
   "source": [
    "df.genres.head()"
   ]
  },
  {
   "cell_type": "markdown",
   "id": "ee82f80d",
   "metadata": {},
   "source": [
    "The genres column isn't clean enough for exoloration. So we need to work on it a bit."
   ]
  },
  {
   "cell_type": "code",
   "execution_count": 22,
   "id": "4627bf79",
   "metadata": {},
   "outputs": [],
   "source": [
    "# To get distinct genres column\n",
    "df[['g1','g2','g3','g4','g5']] = df.genres.str.split(\"|\",expand=True) "
   ]
  },
  {
   "cell_type": "code",
   "execution_count": 23,
   "id": "619c622d",
   "metadata": {},
   "outputs": [
    {
     "data": {
      "text/html": [
       "<div>\n",
       "<style scoped>\n",
       "    .dataframe tbody tr th:only-of-type {\n",
       "        vertical-align: middle;\n",
       "    }\n",
       "\n",
       "    .dataframe tbody tr th {\n",
       "        vertical-align: top;\n",
       "    }\n",
       "\n",
       "    .dataframe thead th {\n",
       "        text-align: right;\n",
       "    }\n",
       "</style>\n",
       "<table border=\"1\" class=\"dataframe\">\n",
       "  <thead>\n",
       "    <tr style=\"text-align: right;\">\n",
       "      <th></th>\n",
       "      <th>id</th>\n",
       "      <th>popularity</th>\n",
       "      <th>original_title</th>\n",
       "      <th>cast</th>\n",
       "      <th>homepage</th>\n",
       "      <th>director</th>\n",
       "      <th>tagline</th>\n",
       "      <th>keywords</th>\n",
       "      <th>overview</th>\n",
       "      <th>runtime</th>\n",
       "      <th>...</th>\n",
       "      <th>vote_average</th>\n",
       "      <th>release_year</th>\n",
       "      <th>budget_adj</th>\n",
       "      <th>revenue_adj</th>\n",
       "      <th>profit</th>\n",
       "      <th>g1</th>\n",
       "      <th>g2</th>\n",
       "      <th>g3</th>\n",
       "      <th>g4</th>\n",
       "      <th>g5</th>\n",
       "    </tr>\n",
       "  </thead>\n",
       "  <tbody>\n",
       "    <tr>\n",
       "      <th>121</th>\n",
       "      <td>201085</td>\n",
       "      <td>1.345982</td>\n",
       "      <td>Crimson Peak</td>\n",
       "      <td>Mia Wasikowska|Jessica Chastain|Tom Hiddleston...</td>\n",
       "      <td>http://www.crimsonpeakmovie.com/</td>\n",
       "      <td>Guillermo del Toro</td>\n",
       "      <td>Beware.</td>\n",
       "      <td>haunted house|mining|murder|spitting blood|gothic</td>\n",
       "      <td>In the aftermath of a family tragedy, an aspir...</td>\n",
       "      <td>119</td>\n",
       "      <td>...</td>\n",
       "      <td>6.4</td>\n",
       "      <td>2015</td>\n",
       "      <td>5.059998e+07</td>\n",
       "      <td>6.870541e+07</td>\n",
       "      <td>1.810543e+07</td>\n",
       "      <td>Mystery</td>\n",
       "      <td>Thriller</td>\n",
       "      <td>Fantasy</td>\n",
       "      <td>Horror</td>\n",
       "      <td>Drama</td>\n",
       "    </tr>\n",
       "    <tr>\n",
       "      <th>122</th>\n",
       "      <td>277355</td>\n",
       "      <td>1.342839</td>\n",
       "      <td>Everly</td>\n",
       "      <td>Salma Hayek|Hiroyuki Watanabe|Jennifer Blanc|T...</td>\n",
       "      <td>NaN</td>\n",
       "      <td>Joe Lynch</td>\n",
       "      <td>Enter if you dare.</td>\n",
       "      <td>assassin|mob boss</td>\n",
       "      <td>After she betrays a powerful mob boss, a woman...</td>\n",
       "      <td>90</td>\n",
       "      <td>...</td>\n",
       "      <td>5.1</td>\n",
       "      <td>2015</td>\n",
       "      <td>1.755104e+07</td>\n",
       "      <td>5.136436e+07</td>\n",
       "      <td>3.381332e+07</td>\n",
       "      <td>Thriller</td>\n",
       "      <td>Action</td>\n",
       "      <td>None</td>\n",
       "      <td>None</td>\n",
       "      <td>None</td>\n",
       "    </tr>\n",
       "    <tr>\n",
       "      <th>123</th>\n",
       "      <td>264999</td>\n",
       "      <td>1.338481</td>\n",
       "      <td>Magic Mike XXL</td>\n",
       "      <td>Channing Tatum|Matt Bomer|Joe Manganiello|Kevi...</td>\n",
       "      <td>NaN</td>\n",
       "      <td>Gregory Jacobs</td>\n",
       "      <td>Back to the grind.</td>\n",
       "      <td>male friendship|strip club|road trip|strip tea...</td>\n",
       "      <td>Three years after Mike bowed out of the stripp...</td>\n",
       "      <td>115</td>\n",
       "      <td>...</td>\n",
       "      <td>6.3</td>\n",
       "      <td>2015</td>\n",
       "      <td>1.361599e+07</td>\n",
       "      <td>1.126200e+08</td>\n",
       "      <td>9.900397e+07</td>\n",
       "      <td>Comedy</td>\n",
       "      <td>Drama</td>\n",
       "      <td>Music</td>\n",
       "      <td>None</td>\n",
       "      <td>None</td>\n",
       "    </tr>\n",
       "  </tbody>\n",
       "</table>\n",
       "<p>3 rows × 23 columns</p>\n",
       "</div>"
      ],
      "text/plain": [
       "         id  popularity  original_title  \\\n",
       "121  201085    1.345982    Crimson Peak   \n",
       "122  277355    1.342839          Everly   \n",
       "123  264999    1.338481  Magic Mike XXL   \n",
       "\n",
       "                                                  cast  \\\n",
       "121  Mia Wasikowska|Jessica Chastain|Tom Hiddleston...   \n",
       "122  Salma Hayek|Hiroyuki Watanabe|Jennifer Blanc|T...   \n",
       "123  Channing Tatum|Matt Bomer|Joe Manganiello|Kevi...   \n",
       "\n",
       "                             homepage            director             tagline  \\\n",
       "121  http://www.crimsonpeakmovie.com/  Guillermo del Toro             Beware.   \n",
       "122                               NaN           Joe Lynch  Enter if you dare.   \n",
       "123                               NaN      Gregory Jacobs  Back to the grind.   \n",
       "\n",
       "                                              keywords  \\\n",
       "121  haunted house|mining|murder|spitting blood|gothic   \n",
       "122                                  assassin|mob boss   \n",
       "123  male friendship|strip club|road trip|strip tea...   \n",
       "\n",
       "                                              overview  runtime  ...  \\\n",
       "121  In the aftermath of a family tragedy, an aspir...      119  ...   \n",
       "122  After she betrays a powerful mob boss, a woman...       90  ...   \n",
       "123  Three years after Mike bowed out of the stripp...      115  ...   \n",
       "\n",
       "    vote_average release_year    budget_adj   revenue_adj        profit  \\\n",
       "121          6.4         2015  5.059998e+07  6.870541e+07  1.810543e+07   \n",
       "122          5.1         2015  1.755104e+07  5.136436e+07  3.381332e+07   \n",
       "123          6.3         2015  1.361599e+07  1.126200e+08  9.900397e+07   \n",
       "\n",
       "           g1        g2       g3      g4     g5  \n",
       "121   Mystery  Thriller  Fantasy  Horror  Drama  \n",
       "122  Thriller    Action     None    None   None  \n",
       "123    Comedy     Drama    Music    None   None  \n",
       "\n",
       "[3 rows x 23 columns]"
      ]
     },
     "execution_count": 23,
     "metadata": {},
     "output_type": "execute_result"
    }
   ],
   "source": [
    "df.head(3)"
   ]
  },
  {
   "cell_type": "code",
   "execution_count": 24,
   "id": "ef89b997",
   "metadata": {},
   "outputs": [
    {
     "data": {
      "text/plain": [
       "20"
      ]
     },
     "execution_count": 24,
     "metadata": {},
     "output_type": "execute_result"
    }
   ],
   "source": [
    "df['g1'].nunique()"
   ]
  },
  {
   "cell_type": "code",
   "execution_count": 25,
   "id": "fcc2e843",
   "metadata": {},
   "outputs": [],
   "source": [
    "unique_genres = list(df['g1'].unique())"
   ]
  },
  {
   "cell_type": "code",
   "execution_count": 26,
   "id": "a2f2fa2c",
   "metadata": {},
   "outputs": [
    {
     "data": {
      "text/plain": [
       "['Mystery',\n",
       " 'Thriller',\n",
       " 'Comedy',\n",
       " 'Horror',\n",
       " 'Romance',\n",
       " 'Drama',\n",
       " 'Crime',\n",
       " 'Adventure',\n",
       " 'Family',\n",
       " 'Action',\n",
       " 'Animation',\n",
       " 'History',\n",
       " 'Music',\n",
       " 'Western',\n",
       " 'Documentary',\n",
       " 'Fantasy',\n",
       " 'War',\n",
       " 'TV Movie',\n",
       " 'Science Fiction',\n",
       " nan,\n",
       " 'Foreign']"
      ]
     },
     "execution_count": 26,
     "metadata": {},
     "output_type": "execute_result"
    }
   ],
   "source": [
    "unique_genres"
   ]
  },
  {
   "cell_type": "code",
   "execution_count": 27,
   "id": "5e338778",
   "metadata": {},
   "outputs": [
    {
     "data": {
      "text/plain": [
       "21"
      ]
     },
     "execution_count": 27,
     "metadata": {},
     "output_type": "execute_result"
    }
   ],
   "source": [
    "len(unique_genres)"
   ]
  },
  {
   "cell_type": "code",
   "execution_count": 28,
   "id": "295e2580",
   "metadata": {},
   "outputs": [],
   "source": [
    "del unique_genres[-2] #remove the nan"
   ]
  },
  {
   "cell_type": "code",
   "execution_count": 29,
   "id": "1b16e0ae",
   "metadata": {},
   "outputs": [
    {
     "data": {
      "text/plain": [
       "['Mystery',\n",
       " 'Thriller',\n",
       " 'Comedy',\n",
       " 'Horror',\n",
       " 'Romance',\n",
       " 'Drama',\n",
       " 'Crime',\n",
       " 'Adventure',\n",
       " 'Family',\n",
       " 'Action',\n",
       " 'Animation',\n",
       " 'History',\n",
       " 'Music',\n",
       " 'Western',\n",
       " 'Documentary',\n",
       " 'Fantasy',\n",
       " 'War',\n",
       " 'TV Movie',\n",
       " 'Science Fiction',\n",
       " 'Foreign']"
      ]
     },
     "execution_count": 29,
     "metadata": {},
     "output_type": "execute_result"
    }
   ],
   "source": [
    "unique_genres"
   ]
  },
  {
   "cell_type": "code",
   "execution_count": 30,
   "id": "965a1765",
   "metadata": {},
   "outputs": [],
   "source": [
    "#Make different tables for distinct genres\n",
    "df1 = df.drop(columns=['g2','g3','g4','g5']).rename(columns={'g1':'g'})\n",
    "df2 = df.drop(columns=['g1','g3','g4','g5']).rename(columns={'g2':'g'})\n",
    "df3 = df.drop(columns=['g2','g1','g4','g5']).rename(columns={'g3':'g'})\n",
    "df4 = df.drop(columns=['g2','g3','g1','g5']).rename(columns={'g4':'g'})\n",
    "df5 = df.drop(columns=['g2','g3','g1','g4']).rename(columns={'g5':'g'})"
   ]
  },
  {
   "cell_type": "code",
   "execution_count": 31,
   "id": "57f6834b",
   "metadata": {},
   "outputs": [
    {
     "data": {
      "text/plain": [
       "(8636, 19)"
      ]
     },
     "execution_count": 31,
     "metadata": {},
     "output_type": "execute_result"
    }
   ],
   "source": [
    "df1.shape"
   ]
  },
  {
   "cell_type": "code",
   "execution_count": 32,
   "id": "a8ecdae9",
   "metadata": {},
   "outputs": [
    {
     "data": {
      "text/plain": [
       "(8636, 19)"
      ]
     },
     "execution_count": 32,
     "metadata": {},
     "output_type": "execute_result"
    }
   ],
   "source": [
    "df2.shape"
   ]
  },
  {
   "cell_type": "code",
   "execution_count": 33,
   "id": "29b00de8",
   "metadata": {},
   "outputs": [
    {
     "data": {
      "text/plain": [
       "(8636, 19)"
      ]
     },
     "execution_count": 33,
     "metadata": {},
     "output_type": "execute_result"
    }
   ],
   "source": [
    "df3.shape"
   ]
  },
  {
   "cell_type": "code",
   "execution_count": 34,
   "id": "18982ea7",
   "metadata": {},
   "outputs": [
    {
     "data": {
      "text/plain": [
       "(8636, 19)"
      ]
     },
     "execution_count": 34,
     "metadata": {},
     "output_type": "execute_result"
    }
   ],
   "source": [
    "df4.shape"
   ]
  },
  {
   "cell_type": "code",
   "execution_count": 35,
   "id": "32ec858c",
   "metadata": {},
   "outputs": [
    {
     "data": {
      "text/plain": [
       "(8636, 19)"
      ]
     },
     "execution_count": 35,
     "metadata": {},
     "output_type": "execute_result"
    }
   ],
   "source": [
    "df5.shape"
   ]
  },
  {
   "cell_type": "code",
   "execution_count": 36,
   "id": "41074256",
   "metadata": {},
   "outputs": [],
   "source": [
    "#merge these tables together\n",
    "df_merge_genres = pd.concat([df1,df2,df3,df4,df5])"
   ]
  },
  {
   "cell_type": "code",
   "execution_count": 37,
   "id": "5c157184",
   "metadata": {},
   "outputs": [
    {
     "data": {
      "text/plain": [
       "(43180, 19)"
      ]
     },
     "execution_count": 37,
     "metadata": {},
     "output_type": "execute_result"
    }
   ],
   "source": [
    "df_merge_genres.shape"
   ]
  },
  {
   "cell_type": "code",
   "execution_count": 38,
   "id": "032299c7",
   "metadata": {},
   "outputs": [],
   "source": [
    "df_merge_genres.reset_index(drop=True,inplace=True)"
   ]
  },
  {
   "cell_type": "code",
   "execution_count": 39,
   "id": "fd31c805",
   "metadata": {},
   "outputs": [
    {
     "data": {
      "text/plain": [
       "Index(['id', 'popularity', 'original_title', 'cast', 'homepage', 'director',\n",
       "       'tagline', 'keywords', 'overview', 'runtime', 'genres',\n",
       "       'production_companies', 'release_date', 'vote_average', 'release_year',\n",
       "       'budget_adj', 'revenue_adj', 'profit', 'g'],\n",
       "      dtype='object')"
      ]
     },
     "execution_count": 39,
     "metadata": {},
     "output_type": "execute_result"
    }
   ],
   "source": [
    "df_merge_genres.columns"
   ]
  },
  {
   "cell_type": "code",
   "execution_count": 40,
   "id": "e865ccfc",
   "metadata": {},
   "outputs": [],
   "source": [
    "df_merge_genres.drop(columns='genres',inplace=True) #drop the dirty genres column since we can't use it"
   ]
  },
  {
   "cell_type": "code",
   "execution_count": 41,
   "id": "a756ffbb",
   "metadata": {},
   "outputs": [
    {
     "data": {
      "text/html": [
       "<div>\n",
       "<style scoped>\n",
       "    .dataframe tbody tr th:only-of-type {\n",
       "        vertical-align: middle;\n",
       "    }\n",
       "\n",
       "    .dataframe tbody tr th {\n",
       "        vertical-align: top;\n",
       "    }\n",
       "\n",
       "    .dataframe thead th {\n",
       "        text-align: right;\n",
       "    }\n",
       "</style>\n",
       "<table border=\"1\" class=\"dataframe\">\n",
       "  <thead>\n",
       "    <tr style=\"text-align: right;\">\n",
       "      <th></th>\n",
       "      <th>id</th>\n",
       "      <th>popularity</th>\n",
       "      <th>original_title</th>\n",
       "      <th>cast</th>\n",
       "      <th>homepage</th>\n",
       "      <th>director</th>\n",
       "      <th>tagline</th>\n",
       "      <th>keywords</th>\n",
       "      <th>overview</th>\n",
       "      <th>runtime</th>\n",
       "      <th>production_companies</th>\n",
       "      <th>release_date</th>\n",
       "      <th>vote_average</th>\n",
       "      <th>release_year</th>\n",
       "      <th>budget_adj</th>\n",
       "      <th>revenue_adj</th>\n",
       "      <th>profit</th>\n",
       "      <th>g</th>\n",
       "    </tr>\n",
       "  </thead>\n",
       "  <tbody>\n",
       "    <tr>\n",
       "      <th>297</th>\n",
       "      <td>363869</td>\n",
       "      <td>0.244648</td>\n",
       "      <td>Belli di papÃ</td>\n",
       "      <td>Diego Abatantuono|Matilde Gioli|Andrea Pisani|...</td>\n",
       "      <td>NaN</td>\n",
       "      <td>Guido Chiesa</td>\n",
       "      <td>NaN</td>\n",
       "      <td>NaN</td>\n",
       "      <td>Italian remake of the Mexican 2013 hit, \"We th...</td>\n",
       "      <td>100</td>\n",
       "      <td>NaN</td>\n",
       "      <td>10/29/15</td>\n",
       "      <td>6.1</td>\n",
       "      <td>2015</td>\n",
       "      <td>1.755104e+07</td>\n",
       "      <td>5.136436e+07</td>\n",
       "      <td>3.381332e+07</td>\n",
       "      <td>NaN</td>\n",
       "    </tr>\n",
       "    <tr>\n",
       "      <th>488</th>\n",
       "      <td>361043</td>\n",
       "      <td>0.129696</td>\n",
       "      <td>All Hallows' Eve 2</td>\n",
       "      <td>NaN</td>\n",
       "      <td>NaN</td>\n",
       "      <td>Antonio Padovan|Bryan Norton|Marc Roussel|Ryan...</td>\n",
       "      <td>NaN</td>\n",
       "      <td>NaN</td>\n",
       "      <td>A woman finds a VHS tape on her doorstep that ...</td>\n",
       "      <td>90</td>\n",
       "      <td>Ruthless Pictures|Hollywood Shorts</td>\n",
       "      <td>10/6/15</td>\n",
       "      <td>5.0</td>\n",
       "      <td>2015</td>\n",
       "      <td>1.755104e+07</td>\n",
       "      <td>5.136436e+07</td>\n",
       "      <td>3.381332e+07</td>\n",
       "      <td>NaN</td>\n",
       "    </tr>\n",
       "    <tr>\n",
       "      <th>749</th>\n",
       "      <td>287663</td>\n",
       "      <td>0.330431</td>\n",
       "      <td>Star Wars Rebels: Spark of Rebellion</td>\n",
       "      <td>Freddie Prinze Jr.|Vanessa Marshall|Steve Blum...</td>\n",
       "      <td>NaN</td>\n",
       "      <td>Steward Lee|Steven G. Lee</td>\n",
       "      <td>NaN</td>\n",
       "      <td>NaN</td>\n",
       "      <td>A Long Time Ago In A Galaxy Far, Far Awayâ€¦ A...</td>\n",
       "      <td>44</td>\n",
       "      <td>NaN</td>\n",
       "      <td>10/3/14</td>\n",
       "      <td>6.8</td>\n",
       "      <td>2014</td>\n",
       "      <td>1.755104e+07</td>\n",
       "      <td>5.136436e+07</td>\n",
       "      <td>3.381332e+07</td>\n",
       "      <td>NaN</td>\n",
       "    </tr>\n",
       "    <tr>\n",
       "      <th>1363</th>\n",
       "      <td>21634</td>\n",
       "      <td>0.302095</td>\n",
       "      <td>Prayers for Bobby</td>\n",
       "      <td>Ryan Kelley|Sigourney Weaver|Henry Czerny|Dan ...</td>\n",
       "      <td>http://www.prayersforbobby.com/</td>\n",
       "      <td>Russell Mulcahy</td>\n",
       "      <td>Before you echo \"amen\" in your home and place ...</td>\n",
       "      <td>NaN</td>\n",
       "      <td>True story of Mary Griffith, gay rights crusad...</td>\n",
       "      <td>88</td>\n",
       "      <td>Daniel Sladek Entertainment</td>\n",
       "      <td>2/27/09</td>\n",
       "      <td>7.4</td>\n",
       "      <td>2009</td>\n",
       "      <td>1.755104e+07</td>\n",
       "      <td>5.136436e+07</td>\n",
       "      <td>3.381332e+07</td>\n",
       "      <td>NaN</td>\n",
       "    </tr>\n",
       "    <tr>\n",
       "      <th>1538</th>\n",
       "      <td>40534</td>\n",
       "      <td>0.020701</td>\n",
       "      <td>Jonas Brothers: The Concert Experience</td>\n",
       "      <td>Nick Jonas|Joe Jonas|Kevin Jonas|John Lloyd Ta...</td>\n",
       "      <td>NaN</td>\n",
       "      <td>Bruce Hendricks</td>\n",
       "      <td>NaN</td>\n",
       "      <td>duringcreditsstinger</td>\n",
       "      <td>Secure your VIP pass to a once-in-a-lifetime e...</td>\n",
       "      <td>76</td>\n",
       "      <td>NaN</td>\n",
       "      <td>2/27/09</td>\n",
       "      <td>7.0</td>\n",
       "      <td>2009</td>\n",
       "      <td>1.755104e+07</td>\n",
       "      <td>5.136436e+07</td>\n",
       "      <td>3.381332e+07</td>\n",
       "      <td>NaN</td>\n",
       "    </tr>\n",
       "    <tr>\n",
       "      <th>...</th>\n",
       "      <td>...</td>\n",
       "      <td>...</td>\n",
       "      <td>...</td>\n",
       "      <td>...</td>\n",
       "      <td>...</td>\n",
       "      <td>...</td>\n",
       "      <td>...</td>\n",
       "      <td>...</td>\n",
       "      <td>...</td>\n",
       "      <td>...</td>\n",
       "      <td>...</td>\n",
       "      <td>...</td>\n",
       "      <td>...</td>\n",
       "      <td>...</td>\n",
       "      <td>...</td>\n",
       "      <td>...</td>\n",
       "      <td>...</td>\n",
       "      <td>...</td>\n",
       "    </tr>\n",
       "    <tr>\n",
       "      <th>43175</th>\n",
       "      <td>5060</td>\n",
       "      <td>0.087034</td>\n",
       "      <td>Carry On Screaming!</td>\n",
       "      <td>Kenneth Williams|Jim Dale|Harry H. Corbett|Joa...</td>\n",
       "      <td>NaN</td>\n",
       "      <td>Gerald Thomas</td>\n",
       "      <td>Carry On Screaming with the Hilarious CARRY ON...</td>\n",
       "      <td>monster|carry on|horror spoof</td>\n",
       "      <td>The sinister Dr Watt has an evil scheme going....</td>\n",
       "      <td>87</td>\n",
       "      <td>Peter Rogers Productions|Anglo-Amalgamated Fil...</td>\n",
       "      <td>5/20/66</td>\n",
       "      <td>7.0</td>\n",
       "      <td>1966</td>\n",
       "      <td>1.755104e+07</td>\n",
       "      <td>5.136436e+07</td>\n",
       "      <td>3.381332e+07</td>\n",
       "      <td>None</td>\n",
       "    </tr>\n",
       "    <tr>\n",
       "      <th>43176</th>\n",
       "      <td>21</td>\n",
       "      <td>0.080598</td>\n",
       "      <td>The Endless Summer</td>\n",
       "      <td>Michael Hynson|Robert August|Lord 'Tally Ho' B...</td>\n",
       "      <td>NaN</td>\n",
       "      <td>Bruce Brown</td>\n",
       "      <td>NaN</td>\n",
       "      <td>surfer|surfboard|surfing</td>\n",
       "      <td>The Endless Summer, by Bruce Brown, is one of ...</td>\n",
       "      <td>95</td>\n",
       "      <td>Bruce Brown Films</td>\n",
       "      <td>6/15/66</td>\n",
       "      <td>7.4</td>\n",
       "      <td>1966</td>\n",
       "      <td>1.755104e+07</td>\n",
       "      <td>5.136436e+07</td>\n",
       "      <td>3.381332e+07</td>\n",
       "      <td>None</td>\n",
       "    </tr>\n",
       "    <tr>\n",
       "      <th>43177</th>\n",
       "      <td>39768</td>\n",
       "      <td>0.065141</td>\n",
       "      <td>Beregis Avtomobilya</td>\n",
       "      <td>Innokentiy Smoktunovskiy|Oleg Efremov|Georgi Z...</td>\n",
       "      <td>NaN</td>\n",
       "      <td>Eldar Ryazanov</td>\n",
       "      <td>NaN</td>\n",
       "      <td>car|trolley|stealing car</td>\n",
       "      <td>An insurance agent who moonlights as a carthie...</td>\n",
       "      <td>94</td>\n",
       "      <td>Mosfilm</td>\n",
       "      <td>1/1/66</td>\n",
       "      <td>6.5</td>\n",
       "      <td>1966</td>\n",
       "      <td>1.755104e+07</td>\n",
       "      <td>5.136436e+07</td>\n",
       "      <td>3.381332e+07</td>\n",
       "      <td>None</td>\n",
       "    </tr>\n",
       "    <tr>\n",
       "      <th>43178</th>\n",
       "      <td>21449</td>\n",
       "      <td>0.064317</td>\n",
       "      <td>What's Up, Tiger Lily?</td>\n",
       "      <td>Tatsuya Mihashi|Akiko Wakabayashi|Mie Hama|Joh...</td>\n",
       "      <td>NaN</td>\n",
       "      <td>Woody Allen</td>\n",
       "      <td>WOODY ALLEN STRIKES BACK!</td>\n",
       "      <td>spoof</td>\n",
       "      <td>In comic Woody Allen's film debut, he took the...</td>\n",
       "      <td>80</td>\n",
       "      <td>Benedict Pictures Corp.</td>\n",
       "      <td>11/2/66</td>\n",
       "      <td>5.4</td>\n",
       "      <td>1966</td>\n",
       "      <td>1.755104e+07</td>\n",
       "      <td>5.136436e+07</td>\n",
       "      <td>3.381332e+07</td>\n",
       "      <td>None</td>\n",
       "    </tr>\n",
       "    <tr>\n",
       "      <th>43179</th>\n",
       "      <td>22293</td>\n",
       "      <td>0.035919</td>\n",
       "      <td>Manos: The Hands of Fate</td>\n",
       "      <td>Harold P. Warren|Tom Neyman|John Reynolds|Dian...</td>\n",
       "      <td>NaN</td>\n",
       "      <td>Harold P. Warren</td>\n",
       "      <td>It's Shocking! It's Beyond Your Imagination!</td>\n",
       "      <td>fire|gun|drive|sacrifice|flashlight</td>\n",
       "      <td>A family gets lost on the road and stumbles up...</td>\n",
       "      <td>74</td>\n",
       "      <td>Norm-Iris</td>\n",
       "      <td>11/15/66</td>\n",
       "      <td>1.5</td>\n",
       "      <td>1966</td>\n",
       "      <td>1.276423e+05</td>\n",
       "      <td>5.136436e+07</td>\n",
       "      <td>5.123672e+07</td>\n",
       "      <td>None</td>\n",
       "    </tr>\n",
       "  </tbody>\n",
       "</table>\n",
       "<p>22533 rows × 18 columns</p>\n",
       "</div>"
      ],
      "text/plain": [
       "           id  popularity                          original_title  \\\n",
       "297    363869    0.244648                          Belli di papÃ    \n",
       "488    361043    0.129696                      All Hallows' Eve 2   \n",
       "749    287663    0.330431    Star Wars Rebels: Spark of Rebellion   \n",
       "1363    21634    0.302095                       Prayers for Bobby   \n",
       "1538    40534    0.020701  Jonas Brothers: The Concert Experience   \n",
       "...       ...         ...                                     ...   \n",
       "43175    5060    0.087034                     Carry On Screaming!   \n",
       "43176      21    0.080598                      The Endless Summer   \n",
       "43177   39768    0.065141                     Beregis Avtomobilya   \n",
       "43178   21449    0.064317                  What's Up, Tiger Lily?   \n",
       "43179   22293    0.035919                Manos: The Hands of Fate   \n",
       "\n",
       "                                                    cast  \\\n",
       "297    Diego Abatantuono|Matilde Gioli|Andrea Pisani|...   \n",
       "488                                                  NaN   \n",
       "749    Freddie Prinze Jr.|Vanessa Marshall|Steve Blum...   \n",
       "1363   Ryan Kelley|Sigourney Weaver|Henry Czerny|Dan ...   \n",
       "1538   Nick Jonas|Joe Jonas|Kevin Jonas|John Lloyd Ta...   \n",
       "...                                                  ...   \n",
       "43175  Kenneth Williams|Jim Dale|Harry H. Corbett|Joa...   \n",
       "43176  Michael Hynson|Robert August|Lord 'Tally Ho' B...   \n",
       "43177  Innokentiy Smoktunovskiy|Oleg Efremov|Georgi Z...   \n",
       "43178  Tatsuya Mihashi|Akiko Wakabayashi|Mie Hama|Joh...   \n",
       "43179  Harold P. Warren|Tom Neyman|John Reynolds|Dian...   \n",
       "\n",
       "                              homepage  \\\n",
       "297                                NaN   \n",
       "488                                NaN   \n",
       "749                                NaN   \n",
       "1363   http://www.prayersforbobby.com/   \n",
       "1538                               NaN   \n",
       "...                                ...   \n",
       "43175                              NaN   \n",
       "43176                              NaN   \n",
       "43177                              NaN   \n",
       "43178                              NaN   \n",
       "43179                              NaN   \n",
       "\n",
       "                                                director  \\\n",
       "297                                         Guido Chiesa   \n",
       "488    Antonio Padovan|Bryan Norton|Marc Roussel|Ryan...   \n",
       "749                            Steward Lee|Steven G. Lee   \n",
       "1363                                     Russell Mulcahy   \n",
       "1538                                     Bruce Hendricks   \n",
       "...                                                  ...   \n",
       "43175                                      Gerald Thomas   \n",
       "43176                                        Bruce Brown   \n",
       "43177                                     Eldar Ryazanov   \n",
       "43178                                        Woody Allen   \n",
       "43179                                   Harold P. Warren   \n",
       "\n",
       "                                                 tagline  \\\n",
       "297                                                  NaN   \n",
       "488                                                  NaN   \n",
       "749                                                  NaN   \n",
       "1363   Before you echo \"amen\" in your home and place ...   \n",
       "1538                                                 NaN   \n",
       "...                                                  ...   \n",
       "43175  Carry On Screaming with the Hilarious CARRY ON...   \n",
       "43176                                                NaN   \n",
       "43177                                                NaN   \n",
       "43178                          WOODY ALLEN STRIKES BACK!   \n",
       "43179       It's Shocking! It's Beyond Your Imagination!   \n",
       "\n",
       "                                  keywords  \\\n",
       "297                                    NaN   \n",
       "488                                    NaN   \n",
       "749                                    NaN   \n",
       "1363                                   NaN   \n",
       "1538                  duringcreditsstinger   \n",
       "...                                    ...   \n",
       "43175        monster|carry on|horror spoof   \n",
       "43176             surfer|surfboard|surfing   \n",
       "43177             car|trolley|stealing car   \n",
       "43178                                spoof   \n",
       "43179  fire|gun|drive|sacrifice|flashlight   \n",
       "\n",
       "                                                overview  runtime  \\\n",
       "297    Italian remake of the Mexican 2013 hit, \"We th...      100   \n",
       "488    A woman finds a VHS tape on her doorstep that ...       90   \n",
       "749    A Long Time Ago In A Galaxy Far, Far Awayâ€¦ A...       44   \n",
       "1363   True story of Mary Griffith, gay rights crusad...       88   \n",
       "1538   Secure your VIP pass to a once-in-a-lifetime e...       76   \n",
       "...                                                  ...      ...   \n",
       "43175  The sinister Dr Watt has an evil scheme going....       87   \n",
       "43176  The Endless Summer, by Bruce Brown, is one of ...       95   \n",
       "43177  An insurance agent who moonlights as a carthie...       94   \n",
       "43178  In comic Woody Allen's film debut, he took the...       80   \n",
       "43179  A family gets lost on the road and stumbles up...       74   \n",
       "\n",
       "                                    production_companies release_date  \\\n",
       "297                                                  NaN     10/29/15   \n",
       "488                   Ruthless Pictures|Hollywood Shorts      10/6/15   \n",
       "749                                                  NaN      10/3/14   \n",
       "1363                         Daniel Sladek Entertainment      2/27/09   \n",
       "1538                                                 NaN      2/27/09   \n",
       "...                                                  ...          ...   \n",
       "43175  Peter Rogers Productions|Anglo-Amalgamated Fil...      5/20/66   \n",
       "43176                                  Bruce Brown Films      6/15/66   \n",
       "43177                                            Mosfilm       1/1/66   \n",
       "43178                            Benedict Pictures Corp.      11/2/66   \n",
       "43179                                          Norm-Iris     11/15/66   \n",
       "\n",
       "       vote_average  release_year    budget_adj   revenue_adj        profit  \\\n",
       "297             6.1          2015  1.755104e+07  5.136436e+07  3.381332e+07   \n",
       "488             5.0          2015  1.755104e+07  5.136436e+07  3.381332e+07   \n",
       "749             6.8          2014  1.755104e+07  5.136436e+07  3.381332e+07   \n",
       "1363            7.4          2009  1.755104e+07  5.136436e+07  3.381332e+07   \n",
       "1538            7.0          2009  1.755104e+07  5.136436e+07  3.381332e+07   \n",
       "...             ...           ...           ...           ...           ...   \n",
       "43175           7.0          1966  1.755104e+07  5.136436e+07  3.381332e+07   \n",
       "43176           7.4          1966  1.755104e+07  5.136436e+07  3.381332e+07   \n",
       "43177           6.5          1966  1.755104e+07  5.136436e+07  3.381332e+07   \n",
       "43178           5.4          1966  1.755104e+07  5.136436e+07  3.381332e+07   \n",
       "43179           1.5          1966  1.276423e+05  5.136436e+07  5.123672e+07   \n",
       "\n",
       "          g  \n",
       "297     NaN  \n",
       "488     NaN  \n",
       "749     NaN  \n",
       "1363    NaN  \n",
       "1538    NaN  \n",
       "...     ...  \n",
       "43175  None  \n",
       "43176  None  \n",
       "43177  None  \n",
       "43178  None  \n",
       "43179  None  \n",
       "\n",
       "[22533 rows x 18 columns]"
      ]
     },
     "execution_count": 41,
     "metadata": {},
     "output_type": "execute_result"
    }
   ],
   "source": [
    "df_merge_genres[df_merge_genres['g'].isnull()==True] #check for null values"
   ]
  },
  {
   "cell_type": "code",
   "execution_count": 42,
   "id": "c64e6c27",
   "metadata": {},
   "outputs": [],
   "source": [
    "# drop null values\n",
    "df_merge_genres.dropna(subset=['g'],inplace=True)"
   ]
  },
  {
   "cell_type": "code",
   "execution_count": 43,
   "id": "6bac7882",
   "metadata": {},
   "outputs": [
    {
     "data": {
      "text/html": [
       "<div>\n",
       "<style scoped>\n",
       "    .dataframe tbody tr th:only-of-type {\n",
       "        vertical-align: middle;\n",
       "    }\n",
       "\n",
       "    .dataframe tbody tr th {\n",
       "        vertical-align: top;\n",
       "    }\n",
       "\n",
       "    .dataframe thead th {\n",
       "        text-align: right;\n",
       "    }\n",
       "</style>\n",
       "<table border=\"1\" class=\"dataframe\">\n",
       "  <thead>\n",
       "    <tr style=\"text-align: right;\">\n",
       "      <th></th>\n",
       "      <th>id</th>\n",
       "      <th>popularity</th>\n",
       "      <th>original_title</th>\n",
       "      <th>cast</th>\n",
       "      <th>homepage</th>\n",
       "      <th>director</th>\n",
       "      <th>tagline</th>\n",
       "      <th>keywords</th>\n",
       "      <th>overview</th>\n",
       "      <th>runtime</th>\n",
       "      <th>production_companies</th>\n",
       "      <th>release_date</th>\n",
       "      <th>vote_average</th>\n",
       "      <th>release_year</th>\n",
       "      <th>budget_adj</th>\n",
       "      <th>revenue_adj</th>\n",
       "      <th>profit</th>\n",
       "      <th>g</th>\n",
       "    </tr>\n",
       "  </thead>\n",
       "  <tbody>\n",
       "  </tbody>\n",
       "</table>\n",
       "</div>"
      ],
      "text/plain": [
       "Empty DataFrame\n",
       "Columns: [id, popularity, original_title, cast, homepage, director, tagline, keywords, overview, runtime, production_companies, release_date, vote_average, release_year, budget_adj, revenue_adj, profit, g]\n",
       "Index: []"
      ]
     },
     "execution_count": 43,
     "metadata": {},
     "output_type": "execute_result"
    }
   ],
   "source": [
    "#check if we still have null values\n",
    "df_merge_genres[df_merge_genres['g'].isnull()==True]"
   ]
  },
  {
   "cell_type": "code",
   "execution_count": 44,
   "id": "619e5376",
   "metadata": {},
   "outputs": [
    {
     "data": {
      "image/png": "[encoded data removed]",
      "text/plain": [
       "<Figure size 720x360 with 1 Axes>"
      ]
     },
     "metadata": {
      "needs_background": "light"
     },
     "output_type": "display_data"
    }
   ],
   "source": [
    "plt.figure(figsize=(10,5))\n",
    "df_merge_genres.groupby('g').mean()['revenue_adj'].sort_values(ascending=True).plot(kind='barh')\n",
    "plt.ylabel('Genres')\n",
    "plt.xlabel('Revenue($)')\n",
    "plt.title(\"Revenues of Genre's\");"
   ]
  },
  {
   "cell_type": "markdown",
   "id": "a58cab5e",
   "metadata": {},
   "source": [
    "From this plot we can clearly see that some genres like TV Movie, Family, Animation generate more revenue than genres like 'Romance', 'Drama','War'. For curiosity sake I need to know if the reason why those top 3 generate more revenue on average is because we have more movies in those genres."
   ]
  },
  {
   "cell_type": "code",
   "execution_count": 45,
   "id": "e3f998bc",
   "metadata": {},
   "outputs": [
    {
     "data": {
      "image/png": "[encoded data removed]",
      "text/plain": [
       "<Figure size 432x288 with 1 Axes>"
      ]
     },
     "metadata": {
      "needs_background": "light"
     },
     "output_type": "display_data"
    }
   ],
   "source": [
    "df_merge_genres['g'].value_counts().plot(kind='bar');"
   ]
  },
  {
   "cell_type": "markdown",
   "id": "2d48374a",
   "metadata": {},
   "source": [
    "This plot clears our doubt strongly."
   ]
  },
  {
   "cell_type": "markdown",
   "id": "bf484c3c",
   "metadata": {},
   "source": [
    "### 3.What kind of properties are associated with movies with high revenues?"
   ]
  },
  {
   "cell_type": "code",
   "execution_count": 46,
   "id": "7a31683f",
   "metadata": {},
   "outputs": [
    {
     "data": {
      "text/html": [
       "<div>\n",
       "<style scoped>\n",
       "    .dataframe tbody tr th:only-of-type {\n",
       "        vertical-align: middle;\n",
       "    }\n",
       "\n",
       "    .dataframe tbody tr th {\n",
       "        vertical-align: top;\n",
       "    }\n",
       "\n",
       "    .dataframe thead th {\n",
       "        text-align: right;\n",
       "    }\n",
       "</style>\n",
       "<table border=\"1\" class=\"dataframe\">\n",
       "  <thead>\n",
       "    <tr style=\"text-align: right;\">\n",
       "      <th></th>\n",
       "      <th>id</th>\n",
       "      <th>popularity</th>\n",
       "      <th>original_title</th>\n",
       "      <th>cast</th>\n",
       "      <th>homepage</th>\n",
       "      <th>director</th>\n",
       "      <th>tagline</th>\n",
       "      <th>keywords</th>\n",
       "      <th>overview</th>\n",
       "      <th>runtime</th>\n",
       "      <th>genres</th>\n",
       "      <th>production_companies</th>\n",
       "      <th>release_date</th>\n",
       "      <th>vote_average</th>\n",
       "      <th>release_year</th>\n",
       "      <th>budget_adj</th>\n",
       "      <th>revenue_adj</th>\n",
       "    </tr>\n",
       "  </thead>\n",
       "  <tbody>\n",
       "    <tr>\n",
       "      <th>121</th>\n",
       "      <td>201085</td>\n",
       "      <td>1.345982</td>\n",
       "      <td>Crimson Peak</td>\n",
       "      <td>Mia Wasikowska|Jessica Chastain|Tom Hiddleston...</td>\n",
       "      <td>http://www.crimsonpeakmovie.com/</td>\n",
       "      <td>Guillermo del Toro</td>\n",
       "      <td>Beware.</td>\n",
       "      <td>haunted house|mining|murder|spitting blood|gothic</td>\n",
       "      <td>In the aftermath of a family tragedy, an aspir...</td>\n",
       "      <td>119</td>\n",
       "      <td>Mystery|Thriller|Fantasy|Horror|Drama</td>\n",
       "      <td>Legendary Pictures</td>\n",
       "      <td>10/13/15</td>\n",
       "      <td>6.4</td>\n",
       "      <td>2015</td>\n",
       "      <td>5.059998e+07</td>\n",
       "      <td>6.870541e+07</td>\n",
       "    </tr>\n",
       "    <tr>\n",
       "      <th>122</th>\n",
       "      <td>277355</td>\n",
       "      <td>1.342839</td>\n",
       "      <td>Everly</td>\n",
       "      <td>Salma Hayek|Hiroyuki Watanabe|Jennifer Blanc|T...</td>\n",
       "      <td>NaN</td>\n",
       "      <td>Joe Lynch</td>\n",
       "      <td>Enter if you dare.</td>\n",
       "      <td>assassin|mob boss</td>\n",
       "      <td>After she betrays a powerful mob boss, a woman...</td>\n",
       "      <td>90</td>\n",
       "      <td>Thriller|Action</td>\n",
       "      <td>Crime Scene Pictures|Radius-TWC|Anonymous Cont...</td>\n",
       "      <td>1/23/15</td>\n",
       "      <td>5.1</td>\n",
       "      <td>2015</td>\n",
       "      <td>1.755104e+07</td>\n",
       "      <td>5.136436e+07</td>\n",
       "    </tr>\n",
       "    <tr>\n",
       "      <th>123</th>\n",
       "      <td>264999</td>\n",
       "      <td>1.338481</td>\n",
       "      <td>Magic Mike XXL</td>\n",
       "      <td>Channing Tatum|Matt Bomer|Joe Manganiello|Kevi...</td>\n",
       "      <td>NaN</td>\n",
       "      <td>Gregory Jacobs</td>\n",
       "      <td>Back to the grind.</td>\n",
       "      <td>male friendship|strip club|road trip|strip tea...</td>\n",
       "      <td>Three years after Mike bowed out of the stripp...</td>\n",
       "      <td>115</td>\n",
       "      <td>Comedy|Drama|Music</td>\n",
       "      <td>Warner Bros.|Iron Horse Entertainment (II)</td>\n",
       "      <td>7/1/15</td>\n",
       "      <td>6.3</td>\n",
       "      <td>2015</td>\n",
       "      <td>1.361599e+07</td>\n",
       "      <td>1.126200e+08</td>\n",
       "    </tr>\n",
       "  </tbody>\n",
       "</table>\n",
       "</div>"
      ],
      "text/plain": [
       "         id  popularity  original_title  \\\n",
       "121  201085    1.345982    Crimson Peak   \n",
       "122  277355    1.342839          Everly   \n",
       "123  264999    1.338481  Magic Mike XXL   \n",
       "\n",
       "                                                  cast  \\\n",
       "121  Mia Wasikowska|Jessica Chastain|Tom Hiddleston...   \n",
       "122  Salma Hayek|Hiroyuki Watanabe|Jennifer Blanc|T...   \n",
       "123  Channing Tatum|Matt Bomer|Joe Manganiello|Kevi...   \n",
       "\n",
       "                             homepage            director             tagline  \\\n",
       "121  http://www.crimsonpeakmovie.com/  Guillermo del Toro             Beware.   \n",
       "122                               NaN           Joe Lynch  Enter if you dare.   \n",
       "123                               NaN      Gregory Jacobs  Back to the grind.   \n",
       "\n",
       "                                              keywords  \\\n",
       "121  haunted house|mining|murder|spitting blood|gothic   \n",
       "122                                  assassin|mob boss   \n",
       "123  male friendship|strip club|road trip|strip tea...   \n",
       "\n",
       "                                              overview  runtime  \\\n",
       "121  In the aftermath of a family tragedy, an aspir...      119   \n",
       "122  After she betrays a powerful mob boss, a woman...       90   \n",
       "123  Three years after Mike bowed out of the stripp...      115   \n",
       "\n",
       "                                    genres  \\\n",
       "121  Mystery|Thriller|Fantasy|Horror|Drama   \n",
       "122                        Thriller|Action   \n",
       "123                     Comedy|Drama|Music   \n",
       "\n",
       "                                  production_companies release_date  \\\n",
       "121                                 Legendary Pictures     10/13/15   \n",
       "122  Crime Scene Pictures|Radius-TWC|Anonymous Cont...      1/23/15   \n",
       "123         Warner Bros.|Iron Horse Entertainment (II)       7/1/15   \n",
       "\n",
       "     vote_average  release_year    budget_adj   revenue_adj  \n",
       "121           6.4          2015  5.059998e+07  6.870541e+07  \n",
       "122           5.1          2015  1.755104e+07  5.136436e+07  \n",
       "123           6.3          2015  1.361599e+07  1.126200e+08  "
      ]
     },
     "execution_count": 46,
     "metadata": {},
     "output_type": "execute_result"
    }
   ],
   "source": [
    "df_clean.head(3)"
   ]
  },
  {
   "cell_type": "code",
   "execution_count": 48,
   "id": "37298392",
   "metadata": {},
   "outputs": [
    {
     "data": {
      "image/png": "[encoded data removed]",
      "text/plain": [
       "<Figure size 432x288 with 1 Axes>"
      ]
     },
     "metadata": {
      "needs_background": "light"
     },
     "output_type": "display_data"
    }
   ],
   "source": [
    "plt.scatter(df_clean['vote_average'],df_clean[\"revenue_adj\"])\n",
    "plt.xlabel('Average votes')\n",
    "plt.ylabel('Revenue($)')\n",
    "plt.title(\"Revenue by Average vote's\");"
   ]
  },
  {
   "cell_type": "markdown",
   "id": "5cb8bec3",
   "metadata": {},
   "source": [
    "We can clearly see that most of the movies have an average vote score between 4 and 8. Also there's relatively no corrrelation between revenue and average vote."
   ]
  },
  {
   "cell_type": "code",
   "execution_count": 86,
   "id": "1e61521f",
   "metadata": {},
   "outputs": [
    {
     "data": {
      "image/png": "[encoded data removed]",
      "text/plain": [
       "<Figure size 432x288 with 1 Axes>"
      ]
     },
     "metadata": {
      "needs_background": "light"
     },
     "output_type": "display_data"
    }
   ],
   "source": [
    "plt.scatter(df_clean['budget_adj'],df_clean[\"revenue_adj\"])\n",
    "plt.xlabel('Budget($)')\n",
    "plt.ylabel('Revenue($)')\n",
    "plt.title('Revenue vs Budget');"
   ]
  },
  {
   "cell_type": "markdown",
   "id": "71d3d67d",
   "metadata": {},
   "source": [
    "We can see here that movies with low budget generally have low revenue.\n",
    "Also we have instances of movies with high budget but low revenue"
   ]
  },
  {
   "cell_type": "code",
   "execution_count": 87,
   "id": "69b205f5",
   "metadata": {},
   "outputs": [
    {
     "data": {
      "image/png": "[encoded data removed]",
      "text/plain": [
       "<Figure size 432x288 with 1 Axes>"
      ]
     },
     "metadata": {
      "needs_background": "light"
     },
     "output_type": "display_data"
    }
   ],
   "source": [
    "plt.scatter(df_clean['runtime'],df_clean[\"revenue_adj\"])\n",
    "plt.xlabel('Movie length(mins)')\n",
    "plt.ylabel('Revenue')\n",
    "plt.title('Revenue vs Movie length');"
   ]
  },
  {
   "cell_type": "code",
   "execution_count": 93,
   "id": "f3817c4a",
   "metadata": {},
   "outputs": [
    {
     "data": {
      "image/png": "[encoded data removed]",
      "text/plain": [
       "<Figure size 432x288 with 1 Axes>"
      ]
     },
     "metadata": {
      "needs_background": "light"
     },
     "output_type": "display_data"
    }
   ],
   "source": [
    "plt.scatter(df_clean['popularity'],df_clean[\"revenue_adj\"])\n",
    "plt.xlabel('Movie popularity')\n",
    "plt.ylabel('Revenue')\n",
    "plt.title('Revenue vs Movie popularity');"
   ]
  },
  {
   "cell_type": "markdown",
   "id": "fb0920c0",
   "metadata": {},
   "source": [
    "### 4. Which month did we generate the most revenue"
   ]
  },
  {
   "cell_type": "code",
   "execution_count": 90,
   "id": "533d1c69",
   "metadata": {},
   "outputs": [],
   "source": [
    "#create a separate column for the month from the release date column\n",
    "df_clean['release_month'] = df_clean['release_date'].str.split('/',expand=True)[0]"
   ]
  },
  {
   "cell_type": "code",
   "execution_count": 91,
   "id": "dd1b0f28",
   "metadata": {},
   "outputs": [
    {
     "data": {
      "text/plain": [
       "121      10\n",
       "122       1\n",
       "123       7\n",
       "124      10\n",
       "125       4\n",
       "         ..\n",
       "10860     5\n",
       "10861     6\n",
       "10863     1\n",
       "10864    11\n",
       "10865    11\n",
       "Name: release_month, Length: 8636, dtype: object"
      ]
     },
     "execution_count": 91,
     "metadata": {},
     "output_type": "execute_result"
    }
   ],
   "source": [
    "df_clean['release_month']"
   ]
  },
  {
   "cell_type": "code",
   "execution_count": 89,
   "id": "25a51a3a",
   "metadata": {},
   "outputs": [
    {
     "data": {
      "image/png": "[encoded data removed]",
      "text/plain": [
       "<Figure size 432x288 with 1 Axes>"
      ]
     },
     "metadata": {
      "needs_background": "light"
     },
     "output_type": "display_data"
    }
   ],
   "source": [
    "df_clean.groupby('release_month').mean()['revenue_adj'].sort_values(ascending=False).plot(kind='bar')\n",
    "labels = ['Jan', 'Feb','Mar','Apr','May','Jun','July','Aug','Sep','Oct','Nov','Dec']\n",
    "plt.title('Monthly Average Revenue Generated')\n",
    "plt.xticks(np.arange(1,13),labels)\n",
    "plt.xlabel('Release Month')\n",
    "plt.ylabel('Revenue');\n"
   ]
  },
  {
   "cell_type": "markdown",
   "id": "924dca67",
   "metadata": {},
   "source": [
    "### Conclusion"
   ]
  },
  {
   "cell_type": "markdown",
   "id": "e70f724f",
   "metadata": {},
   "source": [
    "1. It seems like the number of movies produced increases yearly.\n",
    "   Limitations: we need a larger dataset to clearly establish this\n",
    "\n",
    "2. Most movies are clustered around being 75-120 mins long and we can't really see a clear distinction in an increase with the length of a movie over the years. Also from the year <strong>2000</strong> we can see more shorter movies less than 50mins in length. I would have explored this dataset to see if this shorter movies are a particular type of genre that took a likened during the new era(<strong>2000's</strong>) but we have too many unique genres to do this\n",
    "\n",
    "3. From the year 1980 to 2000 there was a steady increase in the budget but revenue and profit decreased.\n",
    "   Limitations: We don't have enough information for this trend and additional research needs to be done to see why when budget increased we had a decrease in revenue.\n",
    "   \n",
    "4. Genre's like TV, Movie and Animation generated the most revenues\n",
    "\n",
    "5. Movies released in the months of December and January generate the most revenues"
   ]
  },
  {
   "cell_type": "markdown",
   "id": "e074ac82",
   "metadata": {},
   "source": []
  }
 ],
 "metadata": {
  "kernelspec": {
   "display_name": "Python 3",
   "language": "python",
   "name": "python3"
  },
  "language_info": {
   "codemirror_mode": {
    "name": "ipython",
    "version": 3
   },
   "file_extension": ".py",
   "mimetype": "text/x-python",
   "name": "python",
   "nbconvert_exporter": "python",
   "pygments_lexer": "ipython3",
   "version": "3.8.8"
  }
 },
 "nbformat": 4,
 "nbformat_minor": 5
}
